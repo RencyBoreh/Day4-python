{
 "cells": [
  {
   "cell_type": "markdown",
   "id": "0e12568b-9e63-4267-8e1c-4f89194b38bb",
   "metadata": {},
   "source": [
    "###### import string\n",
    "import random\n",
    "chars=\" \"+string.punctuation+string.digits+string.ascii_letters\n",
    "chars=list(chars)\n",
    "key=chars.copy()\n",
    "random.shuffle(key)\n",
    "print(f\"chars:{chars}\")\n",
    "print(f\"key:{key}\")\n",
    "#Encryption\n",
    "plain_text=input(\"Enter a text to be Encrypted:\")\n",
    "cipher_text=\"\"\n",
    "for letter in plain_text:\n",
    "    index = chars.index(letter)\n",
    "    cipher_text+=key[index]\n",
    "\n",
    "#decryption\n",
    "\n",
    "plain_text=\"\"\n",
    "cipher_text=input(\"Enter a text to be decrypted:\")\n",
    "for letter in cipher_text:\n",
    "    index = key.index(letter)\n",
    "    plain_text+=chars[index]\n",
    "print(f\"The encrypted text is:{cipher_text}\")\n",
    "print(f\"The plain Text is:{plain_text}\")\n"
   ]
  },
  {
   "cell_type": "code",
   "execution_count": null,
   "id": "2ec06cd3-b72a-455c-ac4e-49c455ac20e4",
   "metadata": {},
   "outputs": [],
   "source": []
  },
  {
   "cell_type": "code",
   "execution_count": null,
   "id": "e0a8b249-7518-49ab-802b-4b99dffdc933",
   "metadata": {},
   "outputs": [],
   "source": []
  }
 ],
 "metadata": {
  "kernelspec": {
   "display_name": "Python 3 (ipykernel)",
   "language": "python",
   "name": "python3"
  },
  "language_info": {
   "codemirror_mode": {
    "name": "ipython",
    "version": 3
   },
   "file_extension": ".py",
   "mimetype": "text/x-python",
   "name": "python",
   "nbconvert_exporter": "python",
   "pygments_lexer": "ipython3",
   "version": "3.12.4"
  }
 },
 "nbformat": 4,
 "nbformat_minor": 5
}
