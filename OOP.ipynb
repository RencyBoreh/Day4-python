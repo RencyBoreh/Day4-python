{
 "cells": [
  {
   "cell_type": "code",
   "execution_count": 17,
   "id": "d5cd6dd2-dd68-4ca6-a452-a7c0edd1d3eb",
   "metadata": {},
   "outputs": [
    {
     "name": "stdout",
     "output_type": "stream",
     "text": [
      "You drive White BMW!\n",
      "You stopped White BMW!\n",
      "Honda\n",
      "2034\n",
      "black\n",
      "BMW\n",
      "2033\n",
      "White\n"
     ]
    }
   ],
   "source": [
    "#Object Oriented Programming\n",
    "#object is a bundle of related attribute(variable) and methods(functions)\n",
    "#You need a class to create many objects\n",
    "#class is a blueprint to design the structure and layouts of an object\n",
    "class car:\n",
    "    def __init__(self,model,year,color):\n",
    "        self.model=model\n",
    "        self.year=year\n",
    "        self.color=color\n",
    "#methods-actions that an object can perfom\n",
    "    def drive(self):\n",
    "        print(f\"You drive {self.color} {self.model}!\")\n",
    "    def stop(self):\n",
    "        print(f\"You stopped {self.color} {self.model}!\")\n",
    "        \n",
    "car1=car(\"Honda\",2034,\"black\")\n",
    "car2=car('BMW',2033,\"White\")\n",
    "car2.drive()\n",
    "car2.stop()\n",
    "print(car1.model)\n",
    "print(car1.year)\n",
    "print(car1.color)\n",
    "print(car2.model)\n",
    "print(car2.year)\n",
    "print(car2.color)\n",
    "\n"
   ]
  },
  {
   "cell_type": "code",
   "execution_count": null,
   "id": "197c209d-3219-4722-9bc9-47b993f40866",
   "metadata": {},
   "outputs": [],
   "source": []
  }
 ],
 "metadata": {
  "kernelspec": {
   "display_name": "Python 3 (ipykernel)",
   "language": "python",
   "name": "python3"
  },
  "language_info": {
   "codemirror_mode": {
    "name": "ipython",
    "version": 3
   },
   "file_extension": ".py",
   "mimetype": "text/x-python",
   "name": "python",
   "nbconvert_exporter": "python",
   "pygments_lexer": "ipython3",
   "version": "3.12.4"
  }
 },
 "nbformat": 4,
 "nbformat_minor": 5
}
