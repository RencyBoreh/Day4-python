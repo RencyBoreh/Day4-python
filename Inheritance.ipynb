{
 "cells": [
  {
   "cell_type": "code",
   "execution_count": 23,
   "id": "50fa3e67-d237-4a12-9362-5b69e21047f2",
   "metadata": {},
   "outputs": [
    {
     "name": "stdout",
     "output_type": "stream",
     "text": [
      "The Tom is sleeping\n",
      "The Dog is BARKING!\n",
      "The Cat is MEOWING!\n",
      "True\n"
     ]
    }
   ],
   "source": [
    "#Inheritance allows a class to inherit attributes and methods from another class\n",
    "#also helps in code reusability and extensibility\n",
    "#class child(Parent)\n",
    "class Animal:\n",
    "    def __init__(self,name,age,color,is_alive):\n",
    "        self.name=name\n",
    "        self.age=age\n",
    "        self.color=color\n",
    "        self.is_alive=True\n",
    "    def sleep(self):\n",
    "        print(f\"The {self.name} is sleeping\")\n",
    "class Dog(Animal):\n",
    "    def speak():\n",
    "        print(\"The Dog is BARKING!\")\n",
    "class Cat(Animal):\n",
    "     def speak():\n",
    "        print(\"The Cat is MEOWING!\")\n",
    "class Donkey(Animal):\n",
    "    def speak():\n",
    "        print(\"The donkey is PRAYING!\")\n",
    "dog= Dog(\"Tom\",12,\"Red\",True)\n",
    "dog.sleep()\n",
    "Dog.speak()\n",
    "Cat.speak()\n",
    "print(dog.is_alive)"
   ]
  },
  {
   "cell_type": "code",
   "execution_count": null,
   "id": "ebee0549-7dcf-46da-916f-6a25b52ad04c",
   "metadata": {},
   "outputs": [],
   "source": []
  }
 ],
 "metadata": {
  "kernelspec": {
   "display_name": "Python 3 (ipykernel)",
   "language": "python",
   "name": "python3"
  },
  "language_info": {
   "codemirror_mode": {
    "name": "ipython",
    "version": 3
   },
   "file_extension": ".py",
   "mimetype": "text/x-python",
   "name": "python",
   "nbconvert_exporter": "python",
   "pygments_lexer": "ipython3",
   "version": "3.12.4"
  }
 },
 "nbformat": 4,
 "nbformat_minor": 5
}
