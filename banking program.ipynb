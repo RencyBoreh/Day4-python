{
 "cells": [
  {
   "cell_type": "code",
   "execution_count": null,
   "id": "b527a924-5d80-452a-8db1-8f8603caf9e5",
   "metadata": {},
   "outputs": [
    {
     "name": "stdout",
     "output_type": "stream",
     "text": [
      "*************************\n",
      "1.Check Balance\n",
      "2.Deposit\n",
      "3.Withdraw\n",
      "4.Exit\n"
     ]
    },
    {
     "name": "stdin",
     "output_type": "stream",
     "text": [
      "Enter Choice between (1-4): 1\n"
     ]
    },
    {
     "name": "stdout",
     "output_type": "stream",
     "text": [
      "*************************\n",
      "Your Balance is:$0.00\n",
      "*************************\n",
      "*************************\n",
      "1.Check Balance\n",
      "2.Deposit\n",
      "3.Withdraw\n",
      "4.Exit\n"
     ]
    }
   ],
   "source": [
    "amount=0\n",
    "balance=0\n",
    "is_running=True\n",
    "def check_balance():\n",
    "    print(\"*************************\")\n",
    "    print(f\"Your Balance is:${balance:.2f}\")\n",
    "    print(\"*************************\")\n",
    "def deposit():\n",
    "    amount=float(input(\"Enter The Amount You Want to Deposit:\"))\n",
    "    if amount<0:\n",
    "        print(\"*************************\")\n",
    "        print(\"Enter Valid Amount Please!\")\n",
    "        print(\"*************************\")\n",
    "        return 0\n",
    "    else:\n",
    "        return amount\n",
    "def withdraw():\n",
    "    amount=int(input(\"Enter The Amount You Want to Withdraw:\"))\n",
    "    if amount>balance:\n",
    "        print(\"*************************\")\n",
    "        print(f\"Insufficient Funds to Withdraw${amount}\")\n",
    "        print(\"*************************\")\n",
    "        return 0\n",
    "    elif amount<0:\n",
    "        print(\"*************************\")\n",
    "        print(\"You Cannot Withdraw less than zero\")\n",
    "        print(\"*************************\")\n",
    "        return 0\n",
    "    else:\n",
    "        return amount\n",
    "while is_running:\n",
    "     print(\"*************************\")\n",
    "     print(\"1.Check Balance\")\n",
    "     print(\"2.Deposit\")\n",
    "     print(\"3.Withdraw\")\n",
    "     print(\"4.Exit\")\n",
    "     choice=int(input(\"Enter Choice between (1-4):\"))\n",
    "     if choice==1:\n",
    "        check_balance()\n",
    "     elif choice==2:\n",
    "        balance+=deposit()\n",
    "     elif choice==3:\n",
    "        balance-=withdraw()\n",
    "     elif choice==4:\n",
    "        is_running=False\n",
    "     else:\n",
    "        print(\"*************************\")\n",
    "        print(\"Invalid Choice Select Again\")\n",
    "        print(\"*************************\")\n",
    "print(\"*************************\")\n",
    "print(\"Thankyou Welcome Again!\")\n",
    "print(\"*************************\")"
   ]
  },
  {
   "cell_type": "code",
   "execution_count": null,
   "id": "595c2262-be89-46ff-b2ed-def078e77892",
   "metadata": {},
   "outputs": [],
   "source": []
  }
 ],
 "metadata": {
  "kernelspec": {
   "display_name": "Python 3 (ipykernel)",
   "language": "python",
   "name": "python3"
  },
  "language_info": {
   "codemirror_mode": {
    "name": "ipython",
    "version": 3
   },
   "file_extension": ".py",
   "mimetype": "text/x-python",
   "name": "python",
   "nbconvert_exporter": "python",
   "pygments_lexer": "ipython3",
   "version": "3.12.4"
  }
 },
 "nbformat": 4,
 "nbformat_minor": 5
}
